{
 "cells": [
  {
   "cell_type": "code",
   "execution_count": null,
   "metadata": {
    "collapsed": true
   },
   "outputs": [],
   "source": [
    "%load_ext autoreload\n",
    "%autoreload 2"
   ]
  },
  {
   "cell_type": "code",
   "execution_count": null,
   "metadata": {
    "collapsed": true
   },
   "outputs": [],
   "source": [
    "import logging\n",
    "import matplotlib.pyplot as plt\n",
    "import numpy as np\n",
    "import os\n",
    "import seaborn as sns\n",
    "import sklearn \n",
    "import pandas as pd\n",
    "\n",
    "import shelter\n",
    "from shelter.config import data_dir\n",
    "\n",
    "%matplotlib inline"
   ]
  },
  {
   "cell_type": "markdown",
   "metadata": {},
   "source": [
    "# Machine Learning in Production"
   ]
  },
  {
   "cell_type": "markdown",
   "metadata": {},
   "source": [
    "## 0. Introduction (10 minutes)"
   ]
  },
  {
   "cell_type": "markdown",
   "metadata": {},
   "source": [
    "Just being able to create a predictive model is not enough for a Data Scientist. \n",
    "You also need to be able to implement it in such a way that other people can understand and use it.\n",
    "Putting your models into production means knowing and using software best practices.\n",
    "\n",
    "Read the blog [Software development skills for data scientists](http://treycausey.com/software_dev_skills.html) by Trey Causey.\n",
    "\n",
    "We'll touch on some of his topics:\n",
    "\n",
    "* Writing modular, reusable code\n",
    "* Testing\n",
    "* Logging\n",
    "* Version control"
   ]
  },
  {
   "cell_type": "markdown",
   "metadata": {},
   "source": [
    "## 1. Code quality (20 minutes)"
   ]
  },
  {
   "cell_type": "markdown",
   "metadata": {},
   "source": [
    "Writing modular, reusable code has to do with code quality.\n",
    "Code is a means to communicate not only with machines but also with other developers.\n",
    "High quality code is good communication.\n",
    "\n",
    "Code of high quality is correct, human readable, consistent, modular and reusable.\n",
    "On one hand this involves fundamentals like code styling, on the other hand it also concerns naming, code structure and principles like [DRY](Don't repeat yourself), the [rule of three](https://en.wikipedia.org/wiki/Rule_of_three_(computer_programming) and [single responsibility principle](https://en.wikipedia.org/wiki/Single_responsibility_principle).\n",
    "\n",
    "We'll first focus on style.\n",
    "Style guides dictate how you should write your code so that everyone uses a single, consistent style.\n",
    "There's [PEP8](https://www.python.org/dev/peps/pep-0008/) for Python; [Google's Style Guide](https://google.github.io/styleguide/Rguide.xml) or [Advanced R](http://adv-r.had.co.nz/Style.html) for R; and the official [Guide](https://docs.scala-lang.org/style/) for Scala."
   ]
  },
  {
   "cell_type": "markdown",
   "metadata": {},
   "source": [
    "> #### Exercise 1\n",
    "\n",
    "> There's a handy function called `add_features()` in  `data.py` of our Python package `shelter`.\n",
    "Unfortunately, it doesn't follow the PEP8 standards.\n",
    "Most violations are whitespace problems and variable names, so this should be pretty easy to fix.\n",
    ">\n",
    "Open the project folder in PyCharm and navigate to the file `shelter/data.py`.\n",
    "Make all the curly yellow lines go away.\n",
    ">\n",
    "If you don't have PyCharm, change the code in your favourite editor until the following command doesn't return errors:\n",
    ">\n",
    "```bash\n",
    "(ml-production) $ flake8 shelter/data.py --show-source\n",
    "```"
   ]
  },
  {
   "cell_type": "markdown",
   "metadata": {},
   "source": [
    "The code in `add_features()` now has the right format, but it's not good code yet.\n",
    "The function is doing multiple things and that is [not OK](https://blog.codinghorror.com/curlys-law-do-one-thing/).\n",
    "There's more to improve than just code style!"
   ]
  },
  {
   "cell_type": "markdown",
   "metadata": {},
   "source": [
    "> #### Exercise 2\n",
    ">\n",
    "Move the sub-logic from `add_features()`  to the appropriate functions in:\n",
    ">\n",
    "- `check_has_name()`\n",
    "- `get_sex()`\n",
    "- `get_neutered()`\n",
    "- `get_hair_type()`\n",
    "- `compute_days_upon_outcome()`    \n",
    ">\n",
    "The function `check_is_dog()` is already filled in for you.\n",
    ">\n",
    "After this exercise `add_features()` should look something like:\n",
    ">\n",
    "\n",
    "\n",
    "```python\n",
    "def add_features(df):\n",
    "    df['is_dog'] = check_is_dog(df['animal_type'])\n",
    "    df['has_name'] = check_has_name(df['name'])\n",
    "    # ...\n",
    "    return df\n",
    "```\n",
    "\n",
    "\n",
    "It already looks better and more structured, but there are still things that should be improved. \n",
    "What would you do to improve these functions?\n",
    "\n",
    "For instance, the function `add_features()` has an unexpected [side effect](https://softwareengineering.stackexchange.com/questions/15269/why-are-side-effects-considered-evil-in-functional-programming): input `df` gets changed when the function is called.\n",
    "Generally, you want to avoid this kind of unexpected behaviour.\n",
    "How could you avoid this?"
   ]
  },
  {
   "cell_type": "markdown",
   "metadata": {},
   "source": [
    "## 2. Testing (10 minutes)"
   ]
  },
  {
   "cell_type": "markdown",
   "metadata": {},
   "source": [
    "Tests help you determine if your code does what you expected it to do.\n",
    "\n",
    "There are different types of test.\n",
    "The [most important tests](http://slides.com/treycausey/pydata2015#/) for Data Scientists are:\n",
    "- unit tests that focus on small units of code like functions; \n",
    "- integration tests for whole systems;\n",
    "- regression tests to test if software performs the same after changes;\n",
    "\n",
    "In addition, you probably want to have systems checking data quality and monitoring if your model is still performing as expected.\n",
    "Those test won't be discussed here: we'll only show unit tests.\n",
    "\n",
    "[Unit testing](https://jeffknupp.com/blog/2013/12/09/improve-your-python-understanding-unit-testing/) is easy as calling your function and `assert`-ing that the function behaves as expected:"
   ]
  },
  {
   "cell_type": "code",
   "execution_count": 2,
   "metadata": {},
   "outputs": [
    {
     "ename": "AssertionError",
     "evalue": "",
     "output_type": "error",
     "traceback": [
      "\u001b[0;31m---------------------------------------------------------------------------\u001b[0m",
      "\u001b[0;31mAssertionError\u001b[0m                            Traceback (most recent call last)",
      "\u001b[0;32m<ipython-input-2-163e956a1383>\u001b[0m in \u001b[0;36m<module>\u001b[0;34m()\u001b[0m\n\u001b[1;32m      4\u001b[0m \u001b[0mexpected\u001b[0m \u001b[0;34m=\u001b[0m \u001b[0;34m'camelcase'\u001b[0m  \u001b[0;31m# TODO: Adjust this to see what happens.\u001b[0m\u001b[0;34m\u001b[0m\u001b[0m\n\u001b[1;32m      5\u001b[0m \u001b[0;34m\u001b[0m\u001b[0m\n\u001b[0;32m----> 6\u001b[0;31m \u001b[0;32massert\u001b[0m \u001b[0mresult\u001b[0m \u001b[0;34m==\u001b[0m \u001b[0mexpected\u001b[0m\u001b[0;34m\u001b[0m\u001b[0m\n\u001b[0m",
      "\u001b[0;31mAssertionError\u001b[0m: "
     ]
    }
   ],
   "source": [
    "from shelter.data import convert_camel_case\n",
    "\n",
    "result = convert_camel_case('CamelCase')\n",
    "expected = 'camel_case'  # TODO: Adjust this to see what happens.\n",
    "\n",
    "assert result == expected"
   ]
  },
  {
   "cell_type": "markdown",
   "metadata": {},
   "source": [
    "Python unit tests generally go in a folder called `tests/` and contain modules starting with `test_`.\n",
    "These modules again contain functions and classes starting with respectively `test_` and `Test`.\n",
    "It's tests all the way down.\n",
    "\n",
    "Our project also has a folder called `tests/`.\n",
    "`tests/test_data.py` contains unit tests to check the functions that you've made. \n",
    "Check them out!\n",
    "\n",
    "Most functions in `test_data.py` don't use `assert`, but use the `pandas` utility function `assert_series_equal()` to check if `Series` are the same.\n",
    "Many libraries have utility functions to make writing tests easier.\n",
    "\n",
    "Run the unit tests using [`pytest`](https://docs.pytest.org/en/latest/):\n",
    "\n",
    "```bash\n",
    "(ml-production) $ python -m pytest tests/\n",
    "```\n",
    "\n",
    "You'll get some error messages because `test_is_dog()` has not been implemented yet!"
   ]
  },
  {
   "cell_type": "markdown",
   "metadata": {},
   "source": [
    "> #### Exercise 3\n",
    "> \n",
    "> Create a test case to check if `is_dog()` is implemented correctly. \n",
    "Make sure that `pytest` doesn't return any errors."
   ]
  },
  {
   "cell_type": "markdown",
   "metadata": {},
   "source": [
    "## 3. Logging (10 minutes)"
   ]
  },
  {
   "cell_type": "markdown",
   "metadata": {},
   "source": [
    "Logging helps you understand what your code did when it was run.\n",
    "\n",
    "Many people start with `print()` statements to check what's going on, but it's better to use the official `logging` module.\n",
    "`logging` is made for logging.\n",
    "\n",
    "`logging` isn't the most clearly documented feature in Python, but you should be OK if you follow these guidelines.\n",
    "\n",
    "\n",
    "#### `logging` in modules \n",
    "\n",
    "In modules use the `logger` like this:\n",
    "\n",
    "```python\n",
    "# data.py\n",
    "import logging\n",
    "\n",
    "# This logger variable is used by all functions in the module.\n",
    "logger = logging.getLogger(__name__)\n",
    "\n",
    "def load_data(path):\n",
    "    logger.info('Reading data from %s', path)\n",
    "    # ...\n",
    "\n",
    "\n",
    "def check_is_dog(animal_type):\n",
    "    is_cat_dog = animal_type.str.lower().isin('dog', 'cat')\n",
    "    if not is_cat_dog.all():\n",
    "        logging.error('Found something else but dogs and cats: %s',\n",
    "                      animal_type[~is_cat_dog])\n",
    "    # ...\n",
    "```\n",
    "\n",
    "You can create logs with different importance levels with:\n",
    "- `logger.critical()`: most important\n",
    "- `logger.error()`\n",
    "- `logger.warning()`\n",
    "- `logger.info()`\n",
    "- `logger.debug()`: least important\n",
    "\n",
    "\n",
    "#### `logging` in Notebooks\n",
    "\n",
    "You're Notebook is not a module, it's your main application.\n",
    "Because of that `logging` has to be configured:\n",
    "\n",
    "```python\n",
    "# Your Notebook\n",
    "import logging\n",
    "\n",
    "# Configure logging.\n",
    "logging.basicConfig(level=logging.INFO)\n",
    "\n",
    "# Get the logger as you'd do normally.\n",
    "logger = logging.getLogger(__name__)\n",
    "```\n",
    "\n",
    "There are many options you can configure, but the most important setting is the logging level.\n",
    "The logging level is the minimal importance that's being shown.\n",
    "Options are `logging.CRITICAL`, `logging.ERROR`, `logging.WARNING`, etc.\n",
    "\n",
    "Note that once you've set the logging level of your Notebook, you can't change it until you restart your kernel."
   ]
  },
  {
   "cell_type": "code",
   "execution_count": 13,
   "metadata": {},
   "outputs": [],
   "source": [
    "# Your Notebook\n",
    "import logging\n",
    "\n",
    "# Configure logging.\n",
    "logging.basicConfig(level=logging.INFO)\n",
    "\n",
    "# Get the logger as you'd do normally.\n",
    "logger = logging.getLogger(__name__)\n",
    "\n",
    "# shelter module??\n",
    "import shelter\n",
    "\n",
    "import os\n",
    "import pandas as pd"
   ]
  },
  {
   "cell_type": "markdown",
   "metadata": {},
   "source": [
    "> #### Exercise 4\n",
    ">\n",
    "Play around with the `level` argument below. \n",
    "Which function outputs what kind of logging messages?\n",
    ">\n",
    "(Don't forget to restart the kernel and run all cells when changing the log levels.)\n",
    "\n"
   ]
  },
  {
   "cell_type": "code",
   "execution_count": 21,
   "metadata": {},
   "outputs": [],
   "source": [
    "logging.basicConfig(level=logging.INFO)"
   ]
  },
  {
   "cell_type": "code",
   "execution_count": 22,
   "metadata": {},
   "outputs": [
    {
     "name": "stderr",
     "output_type": "stream",
     "text": [
      "INFO:shelter.data:Reading data from /Users/janellezoutkamp/Documents/practice/accelerator/ml-production/data/train.csv\n",
      "INFO:shelter.data:Read 26729 rows\n"
     ]
    }
   ],
   "source": [
    "data_dir = \"/Users/janellezoutkamp/Documents/practice/accelerator/ml-production/data\"\n",
    "train = shelter.data.load_data(os.path.join(data_dir, 'train.csv'))"
   ]
  },
  {
   "cell_type": "code",
   "execution_count": 23,
   "metadata": {},
   "outputs": [
    {
     "name": "stderr",
     "output_type": "stream",
     "text": [
      "ERROR:root:Found something else but dogs and cats:\n",
      "0    mouse\n",
      "dtype: object\n"
     ]
    }
   ],
   "source": [
    "animal_type = pd.Series(['mouse', 'cat'])\n",
    "train = shelter.data.check_is_dog(animal_type)"
   ]
  },
  {
   "cell_type": "markdown",
   "metadata": {},
   "source": [
    "## 4. Version control (15 minutes)"
   ]
  },
  {
   "cell_type": "markdown",
   "metadata": {},
   "source": [
    "Git is one of the most fundamental but also one of the harder tools to learn for Data Scientists.\n",
    "One aspect of Git is versioning your code by committing, pulling and pushing.\n",
    "Other important aspects are collaborating, code review, and automated testing and deploying of your code.\n",
    "\n",
    "All these aspects are part of a mature Data Science workflow.\n",
    "They're also vital if you'd like to improve open-source tools like [`pandas`](https://github.com/pandas-dev/pandas) or [`sklearn`](https://github.com/scikit-learn/scikit-learn).\n",
    "\n",
    "Code review is done with Pull Requests (or Merge Requests).\n",
    "With these requests you ask the owner of a repository to pull (or merge) your changes in their code base.\n",
    "The owner can then discuss your code and suggest improvements.\n",
    "Check for instance the [Pull Requests for `pandas`](https://github.com/pandas-dev/pandas/pulls).\n",
    "\n",
    "Many repositories have systems that test your code for style and correctness.\n",
    "For instance, new `pandas` code is automatically tested and executed on different systems for various Python versions.\n",
    "\n",
    "Once your code is tested and approved, automated (CI/CD) pipelines pick up your code and put it into production."
   ]
  },
  {
   "cell_type": "markdown",
   "metadata": {},
   "source": [
    "> #### Exercise 5\n",
    ">\n",
    "> The [original repository](https://github.com/hgrif/ml-production) (the original is often called _upstream_) doesn't have your improvements yet.\n",
    ">\n",
    "Push the changes to your repository and open a Pull Request at the [upstream](https://github.com/hgrif/ml-production).\n",
    "Once you've opened a Pull Request, [my Travis account](https://travis-ci.org/hgrif/ml-production/pull_requests) will automatically check if you've done exercises 1, 2 and 3 correctly.\n",
    "Keep correcting, committing and pushing until the build passes and I give you a [LGTM](http://livedoor.blogimg.jp/bluesignal/imgs/9/5/95d3a71e.jpg) on your Pull Request."
   ]
  }
 ],
 "metadata": {
  "kernelspec": {
   "display_name": "Python [conda env:ml-production]",
   "language": "python",
   "name": "conda-env-ml-production-py"
  },
  "language_info": {
   "codemirror_mode": {
    "name": "ipython",
    "version": 3
   },
   "file_extension": ".py",
   "mimetype": "text/x-python",
   "name": "python",
   "nbconvert_exporter": "python",
   "pygments_lexer": "ipython3",
   "version": "3.6.2"
  }
 },
 "nbformat": 4,
 "nbformat_minor": 2
}
